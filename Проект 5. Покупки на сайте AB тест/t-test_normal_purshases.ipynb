{
 "cells": [
  {
   "cell_type": "markdown",
   "id": "454bdb0d",
   "metadata": {},
   "source": [
    "Проведено исследование, при котором был изменен дизайн сайта. \n",
    "Проверить, как повлияло это изменение на сумму покупки посетителями сайта. \n",
    "В файле \"AB_test_purchases.csv\" приведены данные о пользователях, разделенных на две группы: A (контрольную группу) и B (тестовую группу).\n",
    "Изменения сайта были показаны только группе B, группа A осталась без изменений. \n",
    "Файл включает в себя 2 столбца: \"Группа\" (A и B), \"Продажи\" (сумма покупок каждого пользователя).\n",
    "\n",
    "* Нулевая гипотеза предполагает, что результаты, группы А и В на самом деле не отличаются и что наблюдаемые различия случайны.\n",
    "\n",
    "* Альтернативная гипотеза, что B отличается от A."
   ]
  },
  {
   "cell_type": "markdown",
   "id": "1445a146",
   "metadata": {},
   "source": [
    "-------------------------------------------------------------------------------------------------------------------------------\n",
    "**1. Проверка данных выборок А и В на нормальность распределения**\n",
    "\n",
    "Для проверки данных на нормальность распределения применяется тест Шапиро-Уилка.\n",
    "Используется функция shapiro из библиотеки scipy.stats для проверки нормальности распределения количества продаж в каждой группе. Результатом этой функции является значения статистики теста и p-значение.\n",
    "\n",
    "Если p-значение больше заданного уровня значимости (alpha = 0.05), то можно опровергнуть гипотезу о нормальности распределения данных. Если p-значение меньше уровня значимости, то мы можем сделать вывод о том, что данные не имеют нормального распределения.\n",
    "\n",
    "-------------------------------------------------------------------------------------------------------------------------------"
   ]
  },
  {
   "cell_type": "code",
   "execution_count": 1,
   "id": "b2378ce5",
   "metadata": {},
   "outputs": [],
   "source": [
    "import pandas as pd\n",
    "import matplotlib.pyplot as plt\n",
    "import seaborn as sns\n",
    "from scipy.stats import shapiro\n",
    "from scipy.stats import ttest_ind"
   ]
  },
  {
   "cell_type": "code",
   "execution_count": 2,
   "id": "7dbd7c09",
   "metadata": {
    "scrolled": true
   },
   "outputs": [
    {
     "data": {
      "text/html": [
       "<div>\n",
       "<style scoped>\n",
       "    .dataframe tbody tr th:only-of-type {\n",
       "        vertical-align: middle;\n",
       "    }\n",
       "\n",
       "    .dataframe tbody tr th {\n",
       "        vertical-align: top;\n",
       "    }\n",
       "\n",
       "    .dataframe thead th {\n",
       "        text-align: right;\n",
       "    }\n",
       "</style>\n",
       "<table border=\"1\" class=\"dataframe\">\n",
       "  <thead>\n",
       "    <tr style=\"text-align: right;\">\n",
       "      <th></th>\n",
       "      <th>Группа</th>\n",
       "      <th>Продажи</th>\n",
       "    </tr>\n",
       "  </thead>\n",
       "  <tbody>\n",
       "    <tr>\n",
       "      <th>0</th>\n",
       "      <td>A</td>\n",
       "      <td>1288.806623</td>\n",
       "    </tr>\n",
       "    <tr>\n",
       "      <th>1</th>\n",
       "      <td>A</td>\n",
       "      <td>1066.402841</td>\n",
       "    </tr>\n",
       "    <tr>\n",
       "      <th>2</th>\n",
       "      <td>A</td>\n",
       "      <td>585.400869</td>\n",
       "    </tr>\n",
       "    <tr>\n",
       "      <th>3</th>\n",
       "      <td>A</td>\n",
       "      <td>919.790311</td>\n",
       "    </tr>\n",
       "    <tr>\n",
       "      <th>4</th>\n",
       "      <td>A</td>\n",
       "      <td>1135.544329</td>\n",
       "    </tr>\n",
       "  </tbody>\n",
       "</table>\n",
       "</div>"
      ],
      "text/plain": [
       "  Группа      Продажи\n",
       "0      A  1288.806623\n",
       "1      A  1066.402841\n",
       "2      A   585.400869\n",
       "3      A   919.790311\n",
       "4      A  1135.544329"
      ]
     },
     "execution_count": 2,
     "metadata": {},
     "output_type": "execute_result"
    }
   ],
   "source": [
    "data = pd.read_csv('AB_test_purchases.csv')\n",
    "data.head()"
   ]
  },
  {
   "cell_type": "code",
   "execution_count": 3,
   "id": "60d4b8df",
   "metadata": {},
   "outputs": [
    {
     "data": {
      "text/html": [
       "<div>\n",
       "<style scoped>\n",
       "    .dataframe tbody tr th:only-of-type {\n",
       "        vertical-align: middle;\n",
       "    }\n",
       "\n",
       "    .dataframe tbody tr th {\n",
       "        vertical-align: top;\n",
       "    }\n",
       "\n",
       "    .dataframe thead th {\n",
       "        text-align: right;\n",
       "    }\n",
       "</style>\n",
       "<table border=\"1\" class=\"dataframe\">\n",
       "  <thead>\n",
       "    <tr style=\"text-align: right;\">\n",
       "      <th></th>\n",
       "      <th>Группа</th>\n",
       "      <th>Продажи</th>\n",
       "    </tr>\n",
       "  </thead>\n",
       "  <tbody>\n",
       "    <tr>\n",
       "      <th>395</th>\n",
       "      <td>B</td>\n",
       "      <td>928.035146</td>\n",
       "    </tr>\n",
       "    <tr>\n",
       "      <th>396</th>\n",
       "      <td>B</td>\n",
       "      <td>1019.034445</td>\n",
       "    </tr>\n",
       "    <tr>\n",
       "      <th>397</th>\n",
       "      <td>B</td>\n",
       "      <td>671.256505</td>\n",
       "    </tr>\n",
       "    <tr>\n",
       "      <th>398</th>\n",
       "      <td>B</td>\n",
       "      <td>1004.981098</td>\n",
       "    </tr>\n",
       "    <tr>\n",
       "      <th>399</th>\n",
       "      <td>B</td>\n",
       "      <td>1005.549712</td>\n",
       "    </tr>\n",
       "  </tbody>\n",
       "</table>\n",
       "</div>"
      ],
      "text/plain": [
       "    Группа      Продажи\n",
       "395      B   928.035146\n",
       "396      B  1019.034445\n",
       "397      B   671.256505\n",
       "398      B  1004.981098\n",
       "399      B  1005.549712"
      ]
     },
     "execution_count": 3,
     "metadata": {},
     "output_type": "execute_result"
    }
   ],
   "source": [
    "data.tail()"
   ]
  },
  {
   "cell_type": "code",
   "execution_count": 4,
   "id": "667f8f89",
   "metadata": {},
   "outputs": [],
   "source": [
    "# Разделение данных на две группы (A и B)\n",
    "group_a = data[data['Группа'] == 'A']['Продажи']\n",
    "group_b = data[data['Группа'] == 'B']['Продажи']"
   ]
  },
  {
   "cell_type": "code",
   "execution_count": 5,
   "id": "ed2a786b",
   "metadata": {},
   "outputs": [
    {
     "name": "stdout",
     "output_type": "stream",
     "text": [
      "Для группы A:\n",
      "Статистика = 0.9935725927352905\n",
      "p-value = 0.5384828448295593\n",
      "Данные группы A можно считать нормально распределенными\n"
     ]
    }
   ],
   "source": [
    "# Проверка данных группы A на нормальность с помощью теста Шапиро-Уилка\n",
    "statistic_a, p_value_a = shapiro(group_a)\n",
    "\n",
    "print(\"Для группы A:\")\n",
    "print(\"Статистика =\", statistic_a)\n",
    "print(\"p-value =\", p_value_a)\n",
    "\n",
    "alpha = 0.05 # уровень значимости\n",
    "\n",
    "if p_value_a > alpha:\n",
    "    print(\"Данные группы A можно считать нормально распределенными\")\n",
    "else:\n",
    "    print(\"Данные группы A не являются нормально распределенными\")"
   ]
  },
  {
   "cell_type": "code",
   "execution_count": 6,
   "id": "efda851a",
   "metadata": {},
   "outputs": [
    {
     "name": "stdout",
     "output_type": "stream",
     "text": [
      "\n",
      "Для группы B:\n",
      "Статистика = 0.9963352084159851\n",
      "p-value = 0.9176192283630371\n",
      "Данные группы B можно считать нормально распределенными\n"
     ]
    }
   ],
   "source": [
    "# Проверка данных группы B на нормальность с помощью теста Шапиро-Уилка\n",
    "statistic_b, p_value_b = shapiro(group_b)\n",
    "\n",
    "print(\"\\nДля группы B:\")\n",
    "print(\"Статистика =\", statistic_b)\n",
    "print(\"p-value =\", p_value_b)\n",
    "\n",
    "if p_value_b > alpha:\n",
    "    print(\"Данные группы B можно считать нормально распределенными\")\n",
    "else:\n",
    "    print(\"Данные группы B не являются нормально распределенными\")"
   ]
  },
  {
   "cell_type": "code",
   "execution_count": 7,
   "id": "d7e28b88",
   "metadata": {
    "scrolled": false
   },
   "outputs": [
    {
     "data": {
      "text/plain": [
       "Text(0.5, 0, 'Сумма продаж')"
      ]
     },
     "execution_count": 7,
     "metadata": {},
     "output_type": "execute_result"
    },
    {
     "data": {
      "image/png": "[encoded data removed]",
      "text/plain": [
       "<Figure size 640x480 with 1 Axes>"
      ]
     },
     "metadata": {},
     "output_type": "display_data"
    }
   ],
   "source": [
    "# Гистограмма группы A\n",
    "ax_a = sns.histplot(group_a, kde=True)\n",
    "plt.ylabel('Частота')\n",
    "plt.xlabel('Сумма продаж')"
   ]
  },
  {
   "cell_type": "code",
   "execution_count": 8,
   "id": "a66191f1",
   "metadata": {
    "scrolled": false
   },
   "outputs": [
    {
     "data": {
      "text/plain": [
       "Text(0.5, 0, 'Сумма продаж')"
      ]
     },
     "execution_count": 8,
     "metadata": {},
     "output_type": "execute_result"
    },
    {
     "data": {
      "image/png": "[encoded data removed]",
      "text/plain": [
       "<Figure size 640x480 with 1 Axes>"
      ]
     },
     "metadata": {},
     "output_type": "display_data"
    }
   ],
   "source": [
    "# Гистограмма группы B\n",
    "ax_b = sns.histplot(group_b, kde=True)\n",
    "plt.ylabel('Частота')\n",
    "plt.xlabel('Сумма продаж')"
   ]
  },
  {
   "cell_type": "markdown",
   "id": "2f5bf7f4",
   "metadata": {},
   "source": [
    "-------------------------------------------------------------------------------------------------------------------------------\n",
    "**2. Проведение t-теста**\n",
    "\n",
    "Т.к. было выяснено, что данные распределены нормально, то используется функция ttest_ind из библиотеки scipy.stats для проведения t-теста и сравнения средних значений количества продаж в группах.\n",
    "\n",
    "В результате программы выводятся средние значения количества продаж в каждой группе, t-статистика и p-значение.\n",
    "По p-значению мы можем сделать вывод о статистической значимости различий между группами (если p-значение меньше уровня значимости alpha = 0.05, то различия считаются статистически значимыми).\n",
    "\n",
    "-------------------------------------------------------------------------------------------------------------------------------"
   ]
  },
  {
   "cell_type": "code",
   "execution_count": 9,
   "id": "cb9f347e",
   "metadata": {},
   "outputs": [],
   "source": [
    "# Разделение данных на две группы (A и B)\n",
    "group_a = data[data['Группа'] == 'A']\n",
    "group_b = data[data['Группа'] == 'B']\n",
    "\n",
    "# Проведение t-теста для сравнения среднего значения количества продаж в группах\n",
    "t_stat, p_value = ttest_ind(group_a['Продажи'], group_b['Продажи'])"
   ]
  },
  {
   "cell_type": "code",
   "execution_count": 10,
   "id": "c2305f31",
   "metadata": {},
   "outputs": [
    {
     "name": "stdout",
     "output_type": "stream",
     "text": [
      "Результаты A/B тестирования:\n",
      "----------------------------\n",
      "Среднее значение количества продаж в группе A: 991.5092569136742\n",
      "Среднее значение количества продаж в группе B: 1096.1901788285038\n",
      "t-статистика: -4.929271369970533\n",
      "p-значение: 1.213659265156133e-06\n"
     ]
    }
   ],
   "source": [
    "# Вывод результатов\n",
    "print('Результаты A/B тестирования:')\n",
    "print('----------------------------')\n",
    "print('Среднее значение количества продаж в группе A:', group_a['Продажи'].mean())\n",
    "print('Среднее значение количества продаж в группе B:', group_b['Продажи'].mean())\n",
    "print('t-статистика:', t_stat)\n",
    "print('p-значение:', p_value)"
   ]
  },
  {
   "cell_type": "markdown",
   "id": "d4df79aa",
   "metadata": {},
   "source": [
    "Чтобы вывести заключение о принятии нулевой гипотезы или ее отклонении, сравниваем критическое значение (уровень значимости alpha = 0.05) с полученным p-значением. Если p-значение меньше уровня значимости, то нулевая гипотеза отвергается, если p-значение больше или равно уровню значимости, то нет оснований отвергать нулевую гипотезу."
   ]
  },
  {
   "cell_type": "code",
   "execution_count": 11,
   "id": "c9214c58",
   "metadata": {
    "scrolled": true
   },
   "outputs": [
    {
     "name": "stdout",
     "output_type": "stream",
     "text": [
      "Отвергаем нулевую гипотезу\n"
     ]
    }
   ],
   "source": [
    "# Уровень значимости (критическое значение)\n",
    "\n",
    "alpha = 0.05\n",
    "\n",
    "# Проверка нулевой гипотезы\n",
    "\n",
    "if p_value < alpha:\n",
    "    print('Отвергаем нулевую гипотезу')\n",
    "else:\n",
    "    print('Принимаем нулевую гипотезу')"
   ]
  },
  {
   "cell_type": "markdown",
   "id": "edfb90d9",
   "metadata": {},
   "source": [
    "**Вывод:** По результатам теста нулевая гипотеза отвергается. Изменение дизайна сайта действительно повлияло на сумму покупки и средняя сумма покупки стала выше."
   ]
  }
 ],
 "metadata": {
  "kernelspec": {
   "display_name": "Python 3 (ipykernel)",
   "language": "python",
   "name": "python3"
  },
  "language_info": {
   "codemirror_mode": {
    "name": "ipython",
    "version": 3
   },
   "file_extension": ".py",
   "mimetype": "text/x-python",
   "name": "python",
   "nbconvert_exporter": "python",
   "pygments_lexer": "ipython3",
   "version": "3.10.9"
  }
 },
 "nbformat": 4,
 "nbformat_minor": 5
}
